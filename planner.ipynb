{
 "cells": [
  {
   "cell_type": "code",
   "execution_count": 653,
   "outputs": [],
   "source": [
    "import re"
   ],
   "metadata": {
    "collapsed": false,
    "ExecuteTime": {
     "end_time": "2024-02-13T01:32:39.628704Z",
     "start_time": "2024-02-13T01:32:39.607627Z"
    }
   },
   "id": "253af1f848d40909"
  },
  {
   "cell_type": "code",
   "execution_count": 654,
   "outputs": [],
   "source": [
    "# input_text = '''Q. Was anyone other than Kevin at that meeting\n",
    "# 10 with you?\n",
    "# 11 A. No.\n",
    "# 12 Q. And was that meeting in Hong Kong as well?\n",
    "# 13 A. No.\n",
    "# 14 Q. Where was it?\n",
    "# 15 A. In Shanghai.\n",
    "# 16 Q. Did you -- strike that.\n",
    "# 17 For how long did your meeting in\n",
    "# 18 Shanghai with Kevin last?\n",
    "# 19 A. About two days.\n",
    "# 20 Q. Did you review documents during that\n",
    "# 21 deposition?\n",
    "# 22 THE INTERPRETER: Counsel, you mean\n",
    "# 23 preposition -- preparation?\n",
    "# 24 MR. HOROWITZ: Sorry, preparation.\n",
    "# 25 BY MR. HOROWITZ:\n",
    "# ANDREW WONG - Vol. I ***HIGHLY CONFIDENTIAL*** 8/29/2016\n",
    "# www.midwestlitigation.com Phone: 1.800.280.3376 Fax: 314.644.1334\n",
    "# MIDWEST LITIGATION SERVICES\n",
    "# Page 16\n",
    "# 1 DEPOSITION OF ANDREW WONG\n",
    "# 2 Q. Do you recall, did you review documents\n",
    "# 3 during that preparation session?\n",
    "# 4 A. Yes.\n",
    "# 5 Q. Do you recall how many approximately?\n",
    "# 6 A. I don't remember.\n",
    "# 7 Q. Was anyone on the phone?\n",
    "# 8 A. No.\n",
    "# 9 Q. Did you have another preparation session\n",
    "# 10 after your July meeting with Kevin in\n",
    "# 11 Shanghai?\n",
    "# 12 A. Yes.\n",
    "# 13 Q. When?\n",
    "# 14 A. Last week.\n",
    "# 15 Q. And who was that with?\n",
    "# 16 A. David and Kevin.\n",
    "# 17 Q. And do you recall what day that occurred on?\n",
    "# 18 A. I can't remember.\n",
    "# 19 Q. Was it more than one day?\n",
    "# 20 A. Yes.\n",
    "# 21 Q. How many days overall did you prepare for\n",
    "# 22 your deposition last week?\n",
    "# 23 A. We had four to five times of preparation\n",
    "# 24 session.\n",
    "# 25 Q. Four to five days?\n",
    "# ANDREW WONG - Vol. I ***HIGHLY CONFIDENTIAL*** 8/29/2016\n",
    "# www.midwestlitigation.com Phone: 1.800.280.3376 Fax: 314.644.1334\n",
    "# MIDWEST LITIGATION SERVICES\n",
    "# Page 17\n",
    "# 1 DEPOSITION OF ANDREW WONG\n",
    "# 2 A. Yes.\n",
    "# 3 Q. And are these -- those each full business\n",
    "# 4 days?\n",
    "# 5 A. Sometimes half a day; sometimes full day.\n",
    "# 6 Q. Never less than half a day?\n",
    "# 7 A. What do you mean by \"half a day\"?\n",
    "# 8 Q. What did you mean by \"half a day\"?\n",
    "# 9 A. A morning or an afternoon.\n",
    "# 10 Q. So, you -- just to recap thus far, you met\n",
    "# 11 for three to four hours with David in July;\n",
    "# 12 two days with Kevin in July; and four to\n",
    "# 13 five days, sometimes half a day, with Kevin\n",
    "# 14 and David last week; is that correct?\n",
    "# 15 A. Correct on the whole, but let me add that,\n",
    "# 16 in the last two session, other than David\n",
    "# 17 and Kevin, the meeting also included John.\n",
    "# 18 Q. Okay. And you reviewed documents during\n",
    "# 19 those sessions as well, those four to five\n",
    "# 20 days last week?\n",
    "# 21 A. Yes.\n",
    "# 22 Q. Any of those documents refresh your\n",
    "# 23 recollection?\n",
    "# 24 A. Once again, whatever I can remember, I\n",
    "# 25 remember. Whatever I cannot, I cannot.'''\n",
    "\n",
    "# input_text = '''Q. When was the first time you met with your\n",
    "# 6 counsel in regard to this deposition?\n",
    "# 7 A. I can't recall exactly when, but it was in\n",
    "# 8 the month of July.\n",
    "# 9 Q. And with whom did you meet?\n",
    "# 10 A. I met with our counsel of the name David.\n",
    "# 11 Q. And this was July of this year, correct?\n",
    "# 12 A. Correct.\n",
    "# 13 Q. And was anyone else -- well, strike that.\n",
    "# 14 Was that meeting here in Hong Kong?\n",
    "# 15 A. Correct.\n",
    "# 16 Q. Was anyone else present at that meeting\n",
    "# 17 other than yourself and David?\n",
    "# 18 A. No.\n",
    "# 19 Q. Was anyone on the phone?\n",
    "# 20 A. No.\n",
    "# 21 Q. For how long did you meet with David?\n",
    "# 22 A. An hour.\n",
    "# 23 MR. ZHAO: (Speaking Mandarin.)\n",
    "# 24 THE INTERPRETER: Sorry,\n",
    "# 25 interpreter's correction.\n",
    "# ANDREW WONG - Vol. I ***HIGHLY CONFIDENTIAL'''\n",
    "\n",
    "input_text = '''Q. For how long did you meet with David?\n",
    "22 A. An hour.\n",
    "23 MR. ZHAO: (Speaking Mandarin.)\n",
    "24 THE INTERPRETER: Sorry,\n",
    "25 interpreter's correction.\n",
    "ANDREW WONG - Vol. I ***HIGHLY CONFIDENTIAL*** 8/29/2016\n",
    "www.midwestlitigation.com Phone: 1.800.280.3376 Fax: 314.644.1334\n",
    "MIDWEST LITIGATION SERVICES\n",
    "Page 14\n",
    "1 DEPOSITION OF ANDREW WONG\n",
    "2 THE WITNESS: Several hours.\n",
    "3 BY MR. HOROWITZ:\n",
    "4 Q. And what's \"several\"?\n",
    "5 A. I don't recall exactly how long, but between'''\n",
    "\n",
    "# input_text = '''BY MR. HOLLANDER:\n",
    "# 19 Q. Can you explain to me the types of\n",
    "# 20 testing you've conducted for ecobee in the past?\n",
    "# 21 MR. DORSKY: Object to form.\n",
    "# 22 A. I have tested voltage DC levels.\n",
    "# 23 BY MR. HOLLANDER:\n",
    "# 24 Q. Any other types of testing?\n",
    "# 25 A. Can you be more specific in your\n",
    "# 212-400-8845 - Depo@TransPerfect.com\n",
    "# TransPerfect Legal Solutions\n",
    "# Page 15\n",
    "# 1 question?\n",
    "# 2 Q. Sure. Earlier you were explaining some\n",
    "# 3 of the types of testing you have performed in the\n",
    "# 4 scope of your employment for ecobee and we were\n",
    "# 5 running through some of the examples. And I was\n",
    "# 6 just wondering if there are any other examples that\n",
    "# 7 you have not identified thus far.'''\n"
   ],
   "metadata": {
    "collapsed": false,
    "ExecuteTime": {
     "end_time": "2024-02-13T01:32:39.642764Z",
     "start_time": "2024-02-13T01:32:39.616488Z"
    }
   },
   "id": "a60f17f02c8b8934"
  },
  {
   "cell_type": "code",
   "execution_count": 655,
   "outputs": [],
   "source": [
    "# first_num, last_num, capitalize = None, None, False\n",
    "# phrase_being_assembled = \"\"\n",
    "# completed_line_groups = []"
   ],
   "metadata": {
    "collapsed": false,
    "ExecuteTime": {
     "end_time": "2024-02-13T01:32:39.642876Z",
     "start_time": "2024-02-13T01:32:39.620557Z"
    }
   },
   "id": "6f56f4734d43a8d4"
  },
  {
   "cell_type": "code",
   "execution_count": 656,
   "outputs": [],
   "source": [
    "def split_text(text):\n",
    "    return text.split('\\n')"
   ],
   "metadata": {
    "collapsed": false,
    "ExecuteTime": {
     "end_time": "2024-02-13T01:32:39.652772Z",
     "start_time": "2024-02-13T01:32:39.622725Z"
    }
   },
   "id": "78c3a7a1b663d42c"
  },
  {
   "cell_type": "code",
   "execution_count": 657,
   "outputs": [],
   "source": [
    "def split_text_into_list_of_lines(text):\n",
    "    \"\"\"\n",
    "    Splits the text into lines and removes extra spaces\n",
    "    \"\"\"\n",
    "    lines = split_text(text)\n",
    "    preprocessed_lines = [line.strip() for line in lines]\n",
    "    return preprocessed_lines"
   ],
   "metadata": {
    "collapsed": false,
    "ExecuteTime": {
     "end_time": "2024-02-13T01:32:39.652934Z",
     "start_time": "2024-02-13T01:32:39.626716Z"
    }
   },
   "id": "573347b94de8d966"
  },
  {
   "cell_type": "markdown",
   "source": [],
   "metadata": {
    "collapsed": false
   },
   "id": "5bbe9ad79c4653f7"
  },
  {
   "cell_type": "code",
   "execution_count": 658,
   "outputs": [
    {
     "data": {
      "text/plain": "['Q. For how long did you meet with David?',\n '22 A. An hour.',\n '23 MR. ZHAO: (Speaking Mandarin.)',\n '24 THE INTERPRETER: Sorry,',\n \"25 interpreter's correction.\",\n 'ANDREW WONG - Vol. I ***HIGHLY CONFIDENTIAL*** 8/29/2016',\n 'www.midwestlitigation.com Phone: 1.800.280.3376 Fax: 314.644.1334',\n 'MIDWEST LITIGATION SERVICES',\n 'Page 14',\n '1 DEPOSITION OF ANDREW WONG',\n '2 THE WITNESS: Several hours.',\n '3 BY MR. HOROWITZ:',\n '4 Q. And what\\'s \"several\"?',\n \"5 A. I don't recall exactly how long, but between\"]"
     },
     "execution_count": 658,
     "metadata": {},
     "output_type": "execute_result"
    }
   ],
   "source": [
    "line_list = split_text_into_list_of_lines(input_text)\n",
    "line_list"
   ],
   "metadata": {
    "collapsed": false,
    "ExecuteTime": {
     "end_time": "2024-02-13T01:32:39.653283Z",
     "start_time": "2024-02-13T01:32:39.630196Z"
    }
   },
   "id": "426963b3ef196449"
  },
  {
   "cell_type": "markdown",
   "source": [],
   "metadata": {
    "collapsed": false
   },
   "id": "33c4409ca38a0de5"
  },
  {
   "cell_type": "code",
   "execution_count": 659,
   "outputs": [],
   "source": [
    "def detect_line_numbers(line):\n",
    "    # match = re.match(r'(\\d+)\\s*', line)\n",
    "    match = re.match(r'(^\\d{1,2})\\s', line)\n",
    "    output = {'num': None, 'line': line}\n",
    "    if match:\n",
    "        output['num'] = int(match.group(1))\n",
    "        output['line'] = line[match.end():].lstrip()\n",
    "    return [output['num'], output['line']]"
   ],
   "metadata": {
    "collapsed": false,
    "ExecuteTime": {
     "end_time": "2024-02-13T01:32:39.653616Z",
     "start_time": "2024-02-13T01:32:39.633610Z"
    }
   },
   "id": "40a02ede025c9fa7"
  },
  {
   "cell_type": "markdown",
   "source": [],
   "metadata": {
    "collapsed": false
   },
   "id": "ffaa0cb27c22fc70"
  },
  {
   "cell_type": "code",
   "execution_count": 660,
   "outputs": [
    {
     "data": {
      "text/plain": "[[21, 'Q. For how long did you meet with David?'],\n [22, 'A. An hour.'],\n [23, 'MR. ZHAO: (Speaking Mandarin.)'],\n [24, 'THE INTERPRETER: Sorry,'],\n [25, \"interpreter's correction.\"],\n [None, 'ANDREW WONG - Vol. I ***HIGHLY CONFIDENTIAL*** 8/29/2016'],\n [None, 'www.midwestlitigation.com Phone: 1.800.280.3376 Fax: 314.644.1334'],\n [None, 'MIDWEST LITIGATION SERVICES'],\n [None, 'Page 14'],\n [1, 'DEPOSITION OF ANDREW WONG'],\n [2, 'THE WITNESS: Several hours.'],\n [3, 'BY MR. HOROWITZ:'],\n [4, 'Q. And what\\'s \"several\"?'],\n [5, \"A. I don't recall exactly how long, but between\"]]"
     },
     "execution_count": 660,
     "metadata": {},
     "output_type": "execute_result"
    }
   ],
   "source": [
    "# Fix prefix line number and get rid of any unneccesary lines here\n",
    "def add_intro_missing_line_number():\n",
    "    num_text_list = [detect_line_numbers(line) for line in line_list]\n",
    "    if num_text_list[0][0] is None:\n",
    "        first_line_with_num = num_text_list[1][0]\n",
    "        pre_num = first_line_with_num\n",
    "        num_text_list[0][0] = pre_num -1\n",
    "    return num_text_list\n",
    "\n",
    "line_list = add_intro_missing_line_number()\n",
    "line_list"
   ],
   "metadata": {
    "collapsed": false,
    "ExecuteTime": {
     "end_time": "2024-02-13T01:32:39.653736Z",
     "start_time": "2024-02-13T01:32:39.638057Z"
    }
   },
   "id": "bc6abe7bc293f143"
  },
  {
   "cell_type": "code",
   "execution_count": 660,
   "outputs": [],
   "source": [],
   "metadata": {
    "collapsed": false,
    "ExecuteTime": {
     "end_time": "2024-02-13T01:32:39.653773Z",
     "start_time": "2024-02-13T01:32:39.640998Z"
    }
   },
   "id": "776eb9a23e8598f7"
  },
  {
   "cell_type": "code",
   "execution_count": 661,
   "outputs": [],
   "source": [
    "def remove_extra_lines(input_list):\n",
    "    new_list = []\n",
    "    second_page = None\n",
    "    # Use a list comprehension to filter out items where the first element is not None\n",
    "    # nums_only_list = [item for item in input_list if item[0] is not None and item[1]]\n",
    "    nums_only_list = [item for item in input_list if item[0] is not None]\n",
    "    # nums_only_list = [item for item in input_list if item[0] is not None or \"Page\" in item[1]]\n",
    "    # for item in nums_only_list:\n",
    "    #     if item[0] is None:\n",
    "    #         pg_num = item[1].split()\n",
    "    #         second_page = int(pg_num[1])\n",
    "    #         nums_only_list.remove(item)\n",
    "    # return nums_only_list, second_page\n",
    "    return nums_only_list\n",
    "\n",
    "# Assuming line_list is defined somewhere above\n",
    "final_list = remove_extra_lines(line_list)\n",
    "# second_page = remove_extra_lines(line_list)[1]\n",
    "# clean_list now contains the filtered list\n",
    "# clean_list"
   ],
   "metadata": {
    "collapsed": false,
    "ExecuteTime": {
     "end_time": "2024-02-13T01:32:39.654205Z",
     "start_time": "2024-02-13T01:32:39.643739Z"
    }
   },
   "id": "906c590931034095"
  },
  {
   "cell_type": "code",
   "execution_count": 662,
   "outputs": [
    {
     "name": "stdout",
     "output_type": "stream",
     "text": [
      "[[21, 'Q. For how long did you meet with David?'], [22, 'A. An hour.'], [23, 'MR. ZHAO: (Speaking Mandarin.)'], [24, 'THE INTERPRETER: Sorry,'], [25, \"interpreter's correction.\"], [1, 'DEPOSITION OF ANDREW WONG'], [2, 'THE WITNESS: Several hours.'], [3, 'BY MR. HOROWITZ:'], [4, 'Q. And what\\'s \"several\"?'], [5, \"A. I don't recall exactly how long, but between\"]]\n",
      "\n",
      "Tr. Pg.__ Ln.5 - Pg.__ Ln.21\n"
     ]
    }
   ],
   "source": [
    "def get_line_num_range(input_list):\n",
    "    for lst in input_list:\n",
    "        line_num = [lst[0] for lst in input_list]\n",
    "        first_num = line_num[0]\n",
    "        last_num = line_num[-1]\n",
    "        if first_num < last_num:\n",
    "            output_str = f'Tr. Pg._ Ln.{first_num}-{last_num}'\n",
    "        else:\n",
    "            output_str = f'Tr. Pg.__ Ln.{last_num} - Pg.__ Ln.{first_num}'\n",
    "        return output_str\n",
    "        \n",
    "cite_str = get_line_num_range(final_list)\n",
    "print(f'{final_list}\\n\\n{cite_str}')\n"
   ],
   "metadata": {
    "collapsed": false,
    "ExecuteTime": {
     "end_time": "2024-02-13T01:32:39.654305Z",
     "start_time": "2024-02-13T01:32:39.647012Z"
    }
   },
   "id": "3ba4b3ed39055486"
  },
  {
   "cell_type": "code",
   "execution_count": 663,
   "outputs": [
    {
     "data": {
      "text/plain": "['21 Q. For how long did you meet with David?',\n '22 A. An hour.',\n '23 MR. ZHAO: (Speaking Mandarin.)',\n '24 THE INTERPRETER: Sorry,',\n \"25 interpreter's correction.\",\n '1 DEPOSITION OF ANDREW WONG',\n '2 THE WITNESS: Several hours.',\n '3 BY MR. HOROWITZ:',\n '4 Q. And what\\'s \"several\"?',\n \"5 A. I don't recall exactly how long, but between\"]"
     },
     "execution_count": 663,
     "metadata": {},
     "output_type": "execute_result"
    }
   ],
   "source": [
    "def create_readable_output(input_text, input_cite):\n",
    "    # for i in range(len(input_text)):\n",
    "    #     input_text[i] = str(input_text[i])\n",
    "    # print(input_text)\n",
    "    readable_list = []\n",
    "    for item in input_text:\n",
    "        readable_list.append(\"\".join(str(item[0])) + \" \" + item[1])\n",
    "    return readable_list\n",
    "        \n",
    "result = create_readable_output(final_list, cite_str)\n",
    "result"
   ],
   "metadata": {
    "collapsed": false,
    "ExecuteTime": {
     "end_time": "2024-02-13T01:32:39.654452Z",
     "start_time": "2024-02-13T01:32:39.650736Z"
    }
   },
   "id": "8256a3fc87536c50"
  },
  {
   "cell_type": "code",
   "execution_count": 664,
   "outputs": [],
   "source": [
    "\n",
    "\n",
    "# def get_line_num_range(input_list, second_page):\n",
    "#     for lst in input_list:\n",
    "#         line_num = [lst[0] for lst in input_list]\n",
    "#         first_num, last_num = line_num[0], line_num[-1]\n",
    "#         if first_num < last_num:\n",
    "#             output_str = f'Tr. Pg._ Ln.{first_num}-{last_num}'\n",
    "#         else:\n",
    "#             output_str = f'Tr. Pg.{second_page-1} Ln.{last_num} - Pg.{second_page} Ln.{first_num}'\n",
    "#         return output_str\n",
    "#         \n",
    "# cite_str = get_line_num_range(clean_list, second_page)\n",
    "# print(cite_str)"
   ],
   "metadata": {
    "collapsed": false,
    "ExecuteTime": {
     "end_time": "2024-02-13T01:32:39.656941Z",
     "start_time": "2024-02-13T01:32:39.653454Z"
    }
   },
   "id": "157a2489bade1fd3"
  },
  {
   "cell_type": "code",
   "execution_count": 665,
   "outputs": [],
   "source": [
    "# def convert_to_dict(input_list):\n",
    "#     # Use a dictionary comprehension to create a dictionary from input_list\n",
    "#     lines_dict = {item[0]: item[1] for item in input_list if item[0] is not None}\n",
    "#     return lines_dict\n"
   ],
   "metadata": {
    "collapsed": false,
    "ExecuteTime": {
     "end_time": "2024-02-13T01:32:39.663817Z",
     "start_time": "2024-02-13T01:32:39.657934Z"
    }
   },
   "id": "c852b4f0e1872889"
  },
  {
   "cell_type": "code",
   "execution_count": 666,
   "outputs": [],
   "source": [
    "# lines_dict = convert_to_dict(clean_list)\n",
    "# lines_dict"
   ],
   "metadata": {
    "collapsed": false,
    "ExecuteTime": {
     "end_time": "2024-02-13T01:32:39.663889Z",
     "start_time": "2024-02-13T01:32:39.660278Z"
    }
   },
   "id": "87eb25ea727275cb"
  }
 ],
 "metadata": {
  "kernelspec": {
   "display_name": "Python 3",
   "language": "python",
   "name": "python3"
  },
  "language_info": {
   "codemirror_mode": {
    "name": "ipython",
    "version": 2
   },
   "file_extension": ".py",
   "mimetype": "text/x-python",
   "name": "python",
   "nbconvert_exporter": "python",
   "pygments_lexer": "ipython2",
   "version": "2.7.6"
  }
 },
 "nbformat": 4,
 "nbformat_minor": 5
}
